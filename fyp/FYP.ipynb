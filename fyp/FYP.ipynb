{
  "nbformat": 4,
  "nbformat_minor": 0,
  "metadata": {
    "colab": {
      "provenance": []
    },
    "kernelspec": {
      "name": "python3",
      "display_name": "Python 3"
    },
    "language_info": {
      "name": "python"
    }
  },
  "cells": [
    {
      "cell_type": "code",
      "source": [
        "# Install Kaggle API\n",
        "!pip install -q Kaggle"
      ],
      "metadata": {
        "id": "DLhfQcBfDQR4"
      },
      "execution_count": null,
      "outputs": []
    },
    {
      "cell_type": "code",
      "source": [
        "# Set up Kaggle credentials\n",
        "#  Create a directory for Kaggle\n",
        "! mkdir ~/.kaggle\n",
        "\n",
        "# Copy the Kaggle API key to the directory\n",
        "! cp kaggle.json ~/.kaggle/\n",
        "\n",
        "# Set appropriate permissions for the API key\n",
        "! chmod 600 ~/.kaggle/kaggle.json\n",
        "\n",
        "# List available Kaggle datasets\n",
        "! kaggle datasets list\n",
        "\n",
        "# Download the dataset\n",
        "!kaggle datasets download -d sovitrath/diabetic-retinopathy-224x224-gaussian-filtered\n",
        "\n",
        "# Unzip the downloaded dataset\n",
        "!unzip diabetic-retinopathy-224x224-gaussian-filtered.zip\n",
        "\n",
        "# List the files in the current directory\n",
        "!ls"
      ],
      "metadata": {
        "id": "YPgUAoQzDUH9"
      },
      "execution_count": null,
      "outputs": []
    },
    {
      "cell_type": "code",
      "source": [
        "# Import necessary libraries\n",
        "from google.colab import files\n",
        "import os\n",
        "import pandas as pd\n",
        "import tensorflow as tf\n",
        "from tensorflow import keras\n",
        "from tensorflow.keras import layers\n",
        "import numpy as np\n",
        "import random\n",
        "import shutil\n",
        "import matplotlib.pyplot as plt\n",
        "from matplotlib.image import imread\n",
        "from keras.preprocessing.image import ImageDataGenerator\n",
        "from tensorflow.keras.metrics import categorical_accuracy\n",
        "from sklearn.model_selection import train_test_split\n",
        "import gc\n",
        "from numpy.lib.type_check import imag\n",
        "from PIL import Image\n",
        "import plotly.offline as plt\n",
        "import os\n",
        "import numpy as np\n",
        "import cv2\n",
        "from PIL import Image\n",
        "import glob\n",
        "from keras.preprocessing.image import img_to_array, load_img\n",
        "from sklearn.preprocessing import LabelBinarizer\n",
        "from imutils import paths\n",
        "from sklearn.utils import shuffle"
      ],
      "metadata": {
        "id": "XK0K1QQvEAiz"
      },
      "execution_count": null,
      "outputs": []
    },
    {
      "cell_type": "code",
      "execution_count": null,
      "metadata": {
        "id": "2sQscc_fCdAf"
      },
      "outputs": [],
      "source": [
        "# Create lists to store data and labels\n",
        "data = []\n",
        "labels = []\n",
        "width, height = 224, 224\n",
        "\n",
        "# Get a list of image paths\n",
        "imagePaths = list(paths.list_images('/content/gaussian_filtered_images/gaussian_filtered_images'))\n",
        "\n",
        "# Iterate through image paths and load data and labels\n",
        "for imagePath in imagePaths:\n",
        "    label = imagePath.split(os.path.sep)[-2]\n",
        "    image = load_img(imagePath, target_size=(width, height))\n",
        "    image = img_to_array(image)\n",
        "    data.append(image)\n",
        "    labels.append(label)\n",
        "\n",
        "data = np.array(data, dtype=\"float32\")\n",
        "labels = np.array(labels)\n",
        "\n",
        "# Perform label binarization\n",
        "lb = LabelBinarizer()\n",
        "labels = lb.fit_transform(labels)\n",
        "\n",
        "# Shuffle the data and labels\n",
        "data, labels = shuffle(data, labels)\n",
        "\n",
        "data = data / 255.0\n"
      ]
    },
    {
      "cell_type": "code",
      "source": [
        "# Split the data into train and test sets\n",
        "x_train, x_test, y_train, y_test = train_test_split(data, labels, test_size=.2)\n",
        "\n",
        "print(\"Train images:\", x_train.shape)\n",
        "print(\"Test images:\", x_test.shape)\n",
        "print(\"Train label:\", y_train.shape)\n",
        "print(\"Test label:\", y_test.shape)\n",
        "\n",
        "#  split the train data into train and validation sets\n",
        "x_train, x_val, y_train, y_val = train_test_split(x_train, y_train, test_size=.2)\n",
        "\n",
        "print(\"Train images:\", x_train.shape)\n",
        "print(\"Validation images:\", x_val.shape)\n",
        "print(\"Train label:\", y_train.shape)\n",
        "print(\"Validation label:\", y_val.shape)\n"
      ],
      "metadata": {
        "id": "WGZwvhAuENWY"
      },
      "execution_count": null,
      "outputs": []
    },
    {
      "cell_type": "code",
      "source": [
        "# Import necessary Keras modules\n",
        "from keras.models import Model\n",
        "from keras.layers import Dense, Flatten, Conv2D, MaxPooling2D, Activation, BatchNormalization, Dropout\n",
        "from keras.models import Sequential\n",
        "from keras.callbacks import EarlyStopping\n",
        "from keras.applications.vgg16 import VGG16\n",
        "from keras import layers"
      ],
      "metadata": {
        "id": "o4cET4VcEYGI"
      },
      "execution_count": null,
      "outputs": []
    },
    {
      "cell_type": "code",
      "source": [
        "# Load VGG16 base model\n",
        "Vgg16 = VGG16(include_top=False, input_shape=(224, 224, 3))\n",
        "Vgg16.trainable = False\n",
        "model = Sequential()\n",
        "model.add(Vgg16)\n",
        "model.add(Dropout(0.25))\n",
        "model.add(Flatten())\n",
        "model.add(Dense(64, activation=\"relu\"))\n",
        "model.add(Dropout(0.25))\n",
        "model.add(Dense(32, activation=\"relu\"))\n",
        "model.add(Dense(5, activation=\"sigmoid\"))\n",
        "model.compile(optimizer=\"adam\", loss=\"binary_crossentropy\", metrics=[\"binary_accuracy\"])\n",
        "\n",
        "# Display the model summary\n",
        "model.summary()\n",
        "\n",
        "callbacks = [EarlyStopping(monitor='val_binary_accuracy', patience=10, restore_best_weights=True)]\n",
        "history = model.fit(x_train, y_train, epochs=90, batch_size=64, validation_data=(x_val, y_val), verbose=1, callbacks=callbacks)\n",
        "model.save_weights(\"model_weights.h5\")\n",
        "\n"
      ],
      "metadata": {
        "id": "4H6o9qEJEU1n"
      },
      "execution_count": null,
      "outputs": []
    },
    {
      "cell_type": "code",
      "source": [
        "# Define a function to plot training curves\n",
        "def plot_curves(history):\n",
        "    loss = history.history[\"loss\"]\n",
        "    val_loss = history.history[\"val_loss\"]\n",
        "    accuracy = history.history[\"binary_accuracy\"]\n",
        "    val_accuracy = history.history[\"val_binary_accuracy\"]\n",
        "    epochs = range(len(history.history[\"loss\"]))\n",
        "\n",
        "    # Plot loss\n",
        "    plt.plot(epochs, loss, label=\"training_loss\")\n",
        "    plt.plot(epochs, val_loss, label=\"val_loss\")\n",
        "    plt.title(\"Loss\")\n",
        "    plt.xlabel(\"Epochs\")\n",
        "    plt.legend()\n",
        "\n",
        "    # Plot accuracy\n",
        "    plt.figure()\n",
        "    plt.plot(epochs, accuracy, label=\"training_accuracy\")\n",
        "    plt.plot(epochs, val_accuracy, label=\"val_accuracy\")\n",
        "    plt.title(\"Accuracy\")\n",
        "    plt.xlabel(\"Epochs\")\n",
        "    plt.legend()\n",
        "\n",
        "# Plot training curves\n",
        "plot_curves(history)\n",
        "\n"
      ],
      "metadata": {
        "id": "oKZE5pgwEvZd"
      },
      "execution_count": null,
      "outputs": []
    },
    {
      "cell_type": "code",
      "source": [
        "# Make predictions on test data and display an example\n",
        "pred = model.predict(x_test)\n",
        "pred = np.argmax(pred, axis=1)\n",
        "index = 5\n",
        "\n",
        "# Define class labels\n",
        "predictions = [\"Mild\", \"Moderate\", \"No_DR\", \"Proliferate_DR\", \"Severe\"]\n",
        "\n",
        "# Display an example image and its true and predicted labels\n",
        "img = x_test[index]\n",
        "RGBImg = cv2.cvtColor(img, cv2.COLOR_BGR2RGB)\n",
        "RGBImg = cv2.resize(RGBImg, (224, 224))\n",
        "plt.imshow(RGBImg)\n",
        "print(y_test[index])  # True labels\n",
        "print(f\"Prediction: {predictions[pred[index]]}\")  # Predicted labe"
      ],
      "metadata": {
        "id": "lHLef77zE5hS"
      },
      "execution_count": null,
      "outputs": []
    }
  ]
}